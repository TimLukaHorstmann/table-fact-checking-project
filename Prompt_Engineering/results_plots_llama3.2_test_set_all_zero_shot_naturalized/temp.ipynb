{
 "cells": [
  {
   "cell_type": "code",
   "execution_count": 3,
   "metadata": {},
   "outputs": [
    {
     "name": "stdout",
     "output_type": "stream",
     "text": [
      "Pickle file loaded successfully.\n",
      "Data saved as JSON at: summary_stats.json\n"
     ]
    }
   ],
   "source": [
    "import pickle\n",
    "import json\n",
    "import numpy as np\n",
    "\n",
    "def convert_to_serializable(obj):\n",
    "    \"\"\"\n",
    "    Recursively convert non-JSON-serializable objects like numpy types to native Python types.\n",
    "    \"\"\"\n",
    "    if isinstance(obj, np.integer):\n",
    "        return int(obj)\n",
    "    elif isinstance(obj, np.floating):\n",
    "        return float(obj)\n",
    "    elif isinstance(obj, np.ndarray):\n",
    "        return obj.tolist()  # Convert arrays to lists\n",
    "    elif isinstance(obj, dict):\n",
    "        return {k: convert_to_serializable(v) for k, v in obj.items()}\n",
    "    elif isinstance(obj, list):\n",
    "        return [convert_to_serializable(item) for item in obj]\n",
    "    elif isinstance(obj, tuple):\n",
    "        return tuple(convert_to_serializable(item) for item in obj)\n",
    "    else:\n",
    "        return obj  # Return as-is for already serializable objects\n",
    "\n",
    "# Specify the paths for the input pickle file and output JSON file\n",
    "pickle_file_path = \"summary_stats.pkl\"  # Replace with the actual path\n",
    "json_file_path = pickle_file_path.replace(\".pkl\", \".json\")  # Save with a .json extension\n",
    "\n",
    "# Load the pickle file\n",
    "try:\n",
    "    with open(pickle_file_path, \"rb\") as pickle_file:\n",
    "        data = pickle.load(pickle_file)\n",
    "    print(\"Pickle file loaded successfully.\")\n",
    "except Exception as e:\n",
    "    print(f\"Error loading pickle file: {e}\")\n",
    "    data = None\n",
    "\n",
    "# Convert and save the data as JSON\n",
    "if data is not None:\n",
    "    try:\n",
    "        serializable_data = convert_to_serializable(data)\n",
    "        with open(json_file_path, \"w\") as json_file:\n",
    "            json.dump(serializable_data, json_file, indent=2)\n",
    "        print(f\"Data saved as JSON at: {json_file_path}\")\n",
    "    except Exception as e:\n",
    "        print(f\"Error saving JSON file: {e}\")"
   ]
  },
  {
   "cell_type": "code",
   "execution_count": null,
   "metadata": {},
   "outputs": [],
   "source": []
  }
 ],
 "metadata": {
  "kernelspec": {
   "display_name": ".conda",
   "language": "python",
   "name": "python3"
  },
  "language_info": {
   "codemirror_mode": {
    "name": "ipython",
    "version": 3
   },
   "file_extension": ".py",
   "mimetype": "text/x-python",
   "name": "python",
   "nbconvert_exporter": "python",
   "pygments_lexer": "ipython3",
   "version": "3.11.10"
  }
 },
 "nbformat": 4,
 "nbformat_minor": 2
}
