{
 "cells": [
  {
   "cell_type": "markdown",
   "metadata": {},
   "source": [
    "### Execution of the LPA model"
   ]
  },
  {
   "cell_type": "code",
   "execution_count": 1,
   "metadata": {},
   "outputs": [
    {
     "name": "stdout",
     "output_type": "stream",
     "text": [
      "/Users/luka512/Desktop/GitHubProjects/table-fact-checking/original_repo\n"
     ]
    }
   ],
   "source": [
    "%cd original_repo"
   ]
  },
  {
   "cell_type": "code",
   "execution_count": 1,
   "metadata": {},
   "outputs": [
    {
     "name": "stdout",
     "output_type": "stream",
     "text": [
      "/Users/luka512/Desktop/GitHubProjects/table-fact-checking/original_repo\n",
      "--2024-12-26 10:47:25--  https://tablefact.s3-us-west-2.amazonaws.com/preprocessed_data_program.zip\n",
      "Resolving tablefact.s3-us-west-2.amazonaws.com (tablefact.s3-us-west-2.amazonaws.com)... 52.218.178.242, 52.218.233.161, 52.218.235.65, ...\n",
      "Connecting to tablefact.s3-us-west-2.amazonaws.com (tablefact.s3-us-west-2.amazonaws.com)|52.218.178.242|:443... connected.\n",
      "HTTP request sent, awaiting response... 200 OK\n",
      "Length: 51143973 (49M) [application/zip]\n",
      "Saving to: ‘preprocessed_data_program.zip’\n",
      "\n",
      "preprocessed_data_p 100%[===================>]  48.77M  1.79MB/s    in 47s     \n",
      "\n",
      "2024-12-26 10:48:13 (1.04 MB/s) - ‘preprocessed_data_program.zip’ saved [51143973/51143973]\n",
      "\n",
      "Archive:  preprocessed_data_program.zip\n",
      "  inflating: preprocessed_data_program/simple_test.tsv  \n",
      "  inflating: preprocessed_data_program/train.tsv  \n",
      "  inflating: preprocessed_data_program/preprocessed.json  \n",
      "  inflating: preprocessed_data_program/complex_test.tsv  \n",
      "  inflating: preprocessed_data_program/small_test.tsv  \n",
      "  inflating: preprocessed_data_program/dev.tsv  \n",
      "  inflating: preprocessed_data_program/.history  \n",
      "  inflating: preprocessed_data_program/test.tsv  \n",
      "  inflating: preprocessed_data_program/vocab.json  \n",
      "  inflating: preprocessed_data_program/all_programs.json  \n"
     ]
    }
   ],
   "source": [
    "!sh get_data.sh"
   ]
  },
  {
   "cell_type": "code",
   "execution_count": 2,
   "metadata": {},
   "outputs": [
    {
     "name": "stdout",
     "output_type": "stream",
     "text": [
      "/Users/luka512/Desktop/GitHubProjects/table-fact-checking/original_repo/code\n"
     ]
    }
   ],
   "source": [
    "%cd code"
   ]
  },
  {
   "cell_type": "code",
   "execution_count": 3,
   "metadata": {},
   "outputs": [
    {
     "name": "stdout",
     "output_type": "stream",
     "text": [
      "Loading used 1.9109632968902588 secs\n",
      "Reloading saved model checkpoints/\n",
      "TP: 40205, FP: 22854, FN: 36443, TN: 33816. precision = 0.6375774966685566: recall = 0.5245407509062108\n",
      "success = 8314, fail = 4465, accuracy = 0.650598587479569\n"
     ]
    }
   ],
   "source": [
    "!python model.py --do_test --resume"
   ]
  },
  {
   "cell_type": "markdown",
   "metadata": {},
   "source": [
    "### Execution of the BERT model"
   ]
  },
  {
   "cell_type": "code",
   "execution_count": null,
   "metadata": {},
   "outputs": [],
   "source": []
  }
 ],
 "metadata": {
  "kernelspec": {
   "display_name": "inf554",
   "language": "python",
   "name": "python3"
  },
  "language_info": {
   "codemirror_mode": {
    "name": "ipython",
    "version": 3
   },
   "file_extension": ".py",
   "mimetype": "text/x-python",
   "name": "python",
   "nbconvert_exporter": "python",
   "pygments_lexer": "ipython3",
   "version": "3.11.9"
  }
 },
 "nbformat": 4,
 "nbformat_minor": 2
}
