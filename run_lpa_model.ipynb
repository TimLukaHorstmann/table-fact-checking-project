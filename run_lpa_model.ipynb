{
 "cells": [
  {
   "cell_type": "markdown",
   "metadata": {},
   "source": [
    "### Execution of the LPA model"
   ]
  },
  {
   "cell_type": "code",
   "execution_count": 1,
   "metadata": {},
   "outputs": [
    {
     "name": "stdout",
     "output_type": "stream",
     "text": [
      "/Users/luka512/Desktop/GitHubProjects/table-fact-checking/original_repo\n",
      "--2024-12-26 09:44:59--  https://tablefact.s3-us-west-2.amazonaws.com/preprocessed_data_program.zip\n",
      "Resolving tablefact.s3-us-west-2.amazonaws.com (tablefact.s3-us-west-2.amazonaws.com)... 52.92.149.154, 3.5.87.109, 3.5.87.173, ...\n",
      "Connecting to tablefact.s3-us-west-2.amazonaws.com (tablefact.s3-us-west-2.amazonaws.com)|52.92.149.154|:443... connected.\n",
      "HTTP request sent, awaiting response... 200 OK\n",
      "Length: 51143973 (49M) [application/zip]\n",
      "Saving to: ‘preprocessed_data_program.zip.1’\n",
      "\n",
      "preprocessed_data_p 100%[===================>]  48.77M  9.22MB/s    in 6.5s    \n",
      "\n",
      "2024-12-26 09:45:06 (7.50 MB/s) - ‘preprocessed_data_program.zip.1’ saved [51143973/51143973]\n",
      "\n",
      "Archive:  preprocessed_data_program.zip\n",
      "  inflating: preprocessed_data_program/simple_test.tsv  \n",
      "  inflating: preprocessed_data_program/train.tsv  \n",
      "  inflating: preprocessed_data_program/preprocessed.json  \n",
      "  inflating: preprocessed_data_program/complex_test.tsv  \n",
      "  inflating: preprocessed_data_program/small_test.tsv  \n",
      "  inflating: preprocessed_data_program/dev.tsv  \n",
      "  inflating: preprocessed_data_program/.history  \n",
      "  inflating: preprocessed_data_program/test.tsv  \n",
      "  inflating: preprocessed_data_program/vocab.json  \n",
      "  inflating: preprocessed_data_program/all_programs.json  \n"
     ]
    }
   ],
   "source": [
    "%cd original_repo\n",
    "!sh get_data.sh"
   ]
  },
  {
   "cell_type": "code",
   "execution_count": 2,
   "metadata": {},
   "outputs": [
    {
     "name": "stdout",
     "output_type": "stream",
     "text": [
      "/Users/luka512/Desktop/GitHubProjects/table-fact-checking/original_repo/code\n",
      "Loading used 1.9050040245056152 secs\n",
      "Traceback (most recent call last):\n",
      "  File \"/Users/luka512/Desktop/GitHubProjects/table-fact-checking/original_repo/code/model.py\", line 109, in <module>\n",
      "    encoder_stat.to(device)\n",
      "  File \"/opt/miniconda3/envs/inf554/lib/python3.11/site-packages/torch/nn/modules/module.py\", line 1152, in to\n",
      "    return self._apply(convert)\n",
      "           ^^^^^^^^^^^^^^^^^^^^\n",
      "  File \"/opt/miniconda3/envs/inf554/lib/python3.11/site-packages/torch/nn/modules/module.py\", line 802, in _apply\n",
      "    module._apply(fn)\n",
      "  File \"/opt/miniconda3/envs/inf554/lib/python3.11/site-packages/torch/nn/modules/module.py\", line 825, in _apply\n",
      "    param_applied = fn(param)\n",
      "                    ^^^^^^^^^\n",
      "  File \"/opt/miniconda3/envs/inf554/lib/python3.11/site-packages/torch/nn/modules/module.py\", line 1150, in convert\n",
      "    return t.to(device, dtype if t.is_floating_point() or t.is_complex() else None, non_blocking)\n",
      "           ^^^^^^^^^^^^^^^^^^^^^^^^^^^^^^^^^^^^^^^^^^^^^^^^^^^^^^^^^^^^^^^^^^^^^^^^^^^^^^^^^^^^^^\n",
      "  File \"/opt/miniconda3/envs/inf554/lib/python3.11/site-packages/torch/cuda/__init__.py\", line 293, in _lazy_init\n",
      "    raise AssertionError(\"Torch not compiled with CUDA enabled\")\n",
      "AssertionError: Torch not compiled with CUDA enabled\n"
     ]
    }
   ],
   "source": [
    "%cd code\n",
    "!python model.py --do_test --resume"
   ]
  },
  {
   "cell_type": "code",
   "execution_count": null,
   "metadata": {},
   "outputs": [],
   "source": []
  }
 ],
 "metadata": {
  "kernelspec": {
   "display_name": "inf554",
   "language": "python",
   "name": "python3"
  },
  "language_info": {
   "codemirror_mode": {
    "name": "ipython",
    "version": 3
   },
   "file_extension": ".py",
   "mimetype": "text/x-python",
   "name": "python",
   "nbconvert_exporter": "python",
   "pygments_lexer": "ipython3",
   "version": "3.11.9"
  }
 },
 "nbformat": 4,
 "nbformat_minor": 2
}
